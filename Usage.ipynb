{
 "cells": [
  {
   "cell_type": "code",
   "execution_count": 1,
   "id": "1034da0a-c8a4-4a53-9e8c-8b870372df52",
   "metadata": {},
   "outputs": [],
   "source": [
    "import os\n",
    "import re\n",
    "import time\n",
    "import requests\n",
    "import pandas as pd\n",
    "import ast\n",
    "import json"
   ]
  },
  {
   "cell_type": "code",
   "execution_count": 21,
   "id": "02e3179b-3bf4-42ce-b6f1-00830b252d9f",
   "metadata": {},
   "outputs": [],
   "source": [
    "class DictionaryManagement:\n",
    "\n",
    "    def __init__(self):\n",
    "        self.Dictionary = {}\n",
    "    \n",
    "    def FindAbbreviations(self, text):\n",
    "        # (?=[A-Z0-9]*[A-Z])\n",
    "        # İfadenin devamında sıfır veya daha fazla \"büyük harf ve rakam\" ve ardından en az bir büyük harf olmalıdır.\n",
    "        #\n",
    "        # [A-Z0-9]{2,}\n",
    "        # En az bir büyük harf ve rakamdan oluşan, en az 2 karakterlik veri\n",
    "        #\n",
    "        # Kombinasyonlu ifade de bu ifadelerin arasına \"/\" karakteri gelirse de kabul ediyor.\n",
    "        # DM2, PCRE, DM2/A (kombinasyonlu)\n",
    "        abbreviation_pattern = r'\\b(?=[A-Z0-9]*[A-Z])[A-Z0-9]{2,6}\\b'\n",
    "        combined_pattern = r'\\b(?=[A-Z0-9]*[A-Z])[A-Z0-9]{2,6}/(?=[A-Z0-9]*[A-Z])[A-Z0-9]{1,5}\\b'\n",
    "    \n",
    "        tokens = re.findall(abbreviation_pattern, text)\n",
    "        tokens.extend(re.findall(combined_pattern, text))\n",
    "    \n",
    "        abbreviations = {token for token in tokens if re.search(r'[A-Z]', token) and not token[0].isdigit()}\n",
    "    \n",
    "        return sorted(abbreviations)\n",
    "\n",
    "    def FilterAbbreviationsWithTreshold(self, allAbbreviations, threshold):\n",
    "        # Çok fazla kısaltma bulunurken, bunların bazıları yanlış olabilir.\n",
    "        # Az sayıda tekrar eden veri varsa bunları sileceğiz, belirli bir eşik değerin üstündeki\n",
    "        # tekrar sayıları o verinin potansiyel kısaltma olduğunu ifade edeceğini kabul ediyoruz.\n",
    "        abbreviationsCount = {}\n",
    "    \n",
    "        for abbreviation in allAbbreviations:\n",
    "            abbreviationsCount[abbreviation] = abbreviationsCount.get(abbreviation, 0) + 1\n",
    "    \n",
    "        return [abbr for abbr, count in abbreviationsCount.items() if count > threshold]\n",
    "\n",
    "    def SetDictionary(self, di):\n",
    "        self.Dictionary = di\n",
    "\n",
    "    def GetAllAbbreviations(self, text):\n",
    "        arr = list(set(self.FindAbbreviations(text)))\n",
    "        result = {}\n",
    "        for key in arr:\n",
    "            if key in self.Dictionary:\n",
    "                result[key] = self.Dictionary[key][:3]\n",
    "        return result"
   ]
  },
  {
   "cell_type": "code",
   "execution_count": 22,
   "id": "57614331-0460-4ed6-94bf-e276a9fbe0d3",
   "metadata": {},
   "outputs": [],
   "source": [
    "DManager = DictionaryManagement()\n",
    "\n",
    "with open(\"Dictionary.json\", \"r\", encoding=\"utf-8\") as json_file:\n",
    "    DManager.SetDictionary(json.load(json_file))"
   ]
  },
  {
   "cell_type": "code",
   "execution_count": 26,
   "id": "18fbbe48-49ba-4578-a9ef-35ab64aebd64",
   "metadata": {},
   "outputs": [
    {
     "data": {
      "text/plain": [
       "{'PO': [{'en_text': 'Per Oral', 'tr_text': 'Ağızdan', 'source': 'i2b2'},\n",
       "  {'en_text': 'Per Oral', 'tr_text': 'Oral', 'source': 'i2b2'}],\n",
       " 'AV': [{'en_text': 'arteriovenous',\n",
       "   'tr_text': 'arteriyovenöz',\n",
       "   'source': 'i2b2'}],\n",
       " 'CHF': [{'en_text': 'congestive heart failure',\n",
       "   'tr_text': 'Konjestif kalp yetmezliğiKKY',\n",
       "   'source': 'i2b2'}]}"
      ]
     },
     "execution_count": 26,
     "metadata": {},
     "output_type": "execute_result"
    }
   ],
   "source": [
    "DManager.GetAllAbbreviations(\"İlaç her gün sabah PO ve AV ile CHF\")"
   ]
  },
  {
   "cell_type": "code",
   "execution_count": null,
   "id": "76c975b3-3386-41d8-af82-69e62b531e91",
   "metadata": {},
   "outputs": [],
   "source": []
  },
  {
   "cell_type": "code",
   "execution_count": null,
   "id": "8436295c-41ee-49fd-a9c2-80a39d744f2b",
   "metadata": {},
   "outputs": [],
   "source": []
  }
 ],
 "metadata": {
  "kernelspec": {
   "display_name": "Python 3 (ipykernel)",
   "language": "python",
   "name": "python3"
  },
  "language_info": {
   "codemirror_mode": {
    "name": "ipython",
    "version": 3
   },
   "file_extension": ".py",
   "mimetype": "text/x-python",
   "name": "python",
   "nbconvert_exporter": "python",
   "pygments_lexer": "ipython3",
   "version": "3.11.0"
  }
 },
 "nbformat": 4,
 "nbformat_minor": 5
}
